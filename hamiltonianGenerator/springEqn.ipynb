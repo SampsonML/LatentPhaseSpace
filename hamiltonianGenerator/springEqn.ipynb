{
 "cells": [
  {
   "cell_type": "code",
   "execution_count": 1,
   "metadata": {},
   "outputs": [],
   "source": [
    "import jax.numpy as jnp\n",
    "import jax.ops as ops\n",
    "from jax import grad, jit, vmap\n",
    "from scipy.integrate import solve_ivp\n",
    "import matplotlib.pyplot as plt"
   ]
  },
  {
   "cell_type": "code",
   "execution_count": 2,
   "metadata": {},
   "outputs": [
    {
     "name": "stdout",
     "output_type": "stream",
     "text": [
      "y = cos(x)\n",
      "for x = 1.57:\n",
      "\ty = -0.00\n",
      "\tdydx = -1.00\n"
     ]
    }
   ],
   "source": [
    "# Differentiate cosine\n",
    "my_sin = grad(jnp.cos)\n",
    "x = jnp.pi/2\n",
    "y = jnp.cos(x)\n",
    "dydx = my_sin(x)\n",
    "\n",
    "print(f'y = cos(x)\\nfor x = {x:.2f}:')\n",
    "print(f'\\ty = {y:.2f}\\n\\tdydx = {dydx:.2f}')"
   ]
  },
  {
   "cell_type": "code",
   "execution_count": 3,
   "metadata": {},
   "outputs": [
    {
     "name": "stdout",
     "output_type": "stream",
     "text": [
      "quadratic equation, y = p0 + p1*x + p2*x^2\n",
      "for x = 1.00, p = [1. 2. 3.]:\n",
      "\ty = 6.00\n",
      "\tdydx = 8.00\n"
     ]
    }
   ],
   "source": [
    "# Differentiate 2nd order polynomial, scalar\n",
    "def my_quad(x, p):\n",
    "  assert len(p) == 3\n",
    "  return p[0] + p[1]*x + p[2]*x**2\n",
    "\n",
    "x = 1.0\n",
    "p = jnp.array([1.0,2.0,3.0])\n",
    "y = my_quad(x,p)\n",
    "my_lin = grad(my_quad)\n",
    "dydx = my_lin(x,p)\n",
    "\n",
    "print(f'quadratic equation, y = p0 + p1*x + p2*x^2\\nfor x = {x:.2f}, p = {p}:')\n",
    "print(f'\\ty = {y:.2f}\\n\\tdydx = {dydx:.2f}')"
   ]
  },
  {
   "cell_type": "code",
   "execution_count": 4,
   "metadata": {},
   "outputs": [
    {
     "name": "stdout",
     "output_type": "stream",
     "text": [
      "Using y and p as defined above\n",
      "for x = [0.  0.2 0.4 0.6 0.8 1. ]:\n",
      "\ty =    [1.        1.52      2.28      3.2800002 4.52      6.       ]\n",
      "\tdydx = [2.        3.2       4.4       5.6000004 6.8       8.       ]\n"
     ]
    }
   ],
   "source": [
    "# Differentiate 2nd order polynomial, vector\n",
    "x_vec = jnp.arange(0.0, 1.2, 0.2)\n",
    "y_vec = vmap(my_quad, in_axes=(0,None))(x_vec, p)\n",
    "dydx_vec = vmap(my_lin, in_axes=(0,None))(x_vec, p)\n",
    "\n",
    "print(f'Using y and p as defined above\\nfor x = {x_vec}:')\n",
    "print(f'\\ty =    {y_vec}')\n",
    "print(f'\\tdydx = {dydx_vec}')"
   ]
  },
  {
   "cell_type": "code",
   "execution_count": 5,
   "metadata": {},
   "outputs": [],
   "source": [
    "def V(dx, k):\n",
    "  ''' Potential energy of deformation of spring between masses n and n+1,\n",
    "      with spring constant k and deformation dx = x_n+1 - x_n '''\n",
    "  return 0.5*k*dx**2\n",
    "\n",
    "\n",
    "def T(p, m):\n",
    "  ''' Kinetic energy of mass m with momentum p '''\n",
    "  return 0.5*p**2/m\n",
    "\n",
    "\n",
    "def H(x, p, params):\n",
    "  ''' Given positions x and momentums p, compute Hamiltonian of system with N masses.\n",
    "      Dictionary params includes stiffness k, mass m, and boundary condition BC\n",
    "      defines right edge of chain '''\n",
    "\n",
    "  if params['BC'] == 0: # free\n",
    "    dx = jnp.pad(jnp.diff(x),(0,1),'constant')\n",
    "  elif params['BC'] == 1: #fixed\n",
    "    dx = jnp.diff(jnp.pad(x,(0,1),'constant'))\n",
    "  else:\n",
    "    assert False, 'Specify right boundary condition as 0 (free) or 1 (fixed)'\n",
    "\n",
    "  V_vec = vmap(V, in_axes=(0,None))(dx, params['k'])\n",
    "  T_vec = vmap(T, in_axes=(0,None))(p, params['m'])\n",
    "  H_total = jnp.sum(jnp.add(V_vec, T_vec))\n",
    "\n",
    "  return H_total"
   ]
  },
  {
   "cell_type": "code",
   "execution_count": 6,
   "metadata": {},
   "outputs": [],
   "source": [
    "dHdx = grad(H, argnums=0)\n",
    "dHdp = grad(H, argnums=1)\n",
    "\n",
    "def eom(t, y, params):\n",
    "  ''' Equations of motion for general 1D Hamiltonian with N units '''\n",
    "\n",
    "  x, p = jnp.split(y, 2, axis=0)\n",
    "  dxdt =  dHdp(x, p, params) # velocity\n",
    "  dpdt = -dHdx(x, p, params) # force\n",
    "  dydt = jnp.concatenate((dxdt,dpdt), axis=0)\n",
    "\n",
    "  return dydt"
   ]
  },
  {
   "cell_type": "code",
   "execution_count": 9,
   "metadata": {},
   "outputs": [],
   "source": [
    "def generate_IC_vector(x0, p0, N):\n",
    "  ''' Given inital position x0 and momentum p0 of the leftmost unit of an N-unit\n",
    "      chain, return y0 vector containing initial x and p vectors assuming the\n",
    "      remaining masses are at rest in equilibrium.\n",
    "      \n",
    "      For use in solve_ivp, need y0.shape = (2N,)'''\n",
    "\n",
    "  x = jnp.zeros(N)\n",
    "  p = jnp.zeros(N)\n",
    "  #x = ops.index_update(x, 0, x0)\n",
    "  #p = ops.index_update(p, 0, p0)\n",
    "  x = x.at[0].set(x0) #ops.index_update(x, 0, x0)\n",
    "  p = p.at[0].set(p0) #ops.index_update(p, 0, p0)\n",
    "  y0 = jnp.concatenate((x,p), axis=0)\n",
    "\n",
    "  return y0"
   ]
  },
  {
   "cell_type": "code",
   "execution_count": 11,
   "metadata": {},
   "outputs": [],
   "source": [
    "N = 25 # chain length (number of masses)\n",
    "params = {'k':1, 'm':2, 'BC':1} # {k: spring constant, m: mass, BC: [0|1]}\n",
    "x0 = 0.0 # Initially in equilibrium position\n",
    "p0 = 1.0 # Give initial \"kick\" to left end\n",
    "\n",
    "y0 = generate_IC_vector(x0, p0, N)"
   ]
  },
  {
   "cell_type": "code",
   "execution_count": 13,
   "metadata": {},
   "outputs": [],
   "source": [
    "# Set the solver parameters and simulation time\n",
    "tspan = (0.0,100.0)\n",
    "method = 'RK45' # Typical Runge-Kutta method\n",
    "rtol = 1e-8\n",
    "atol = 1e-8"
   ]
  },
  {
   "cell_type": "code",
   "execution_count": 14,
   "metadata": {},
   "outputs": [],
   "source": [
    "# Solve equations of motion \n",
    "sol = solve_ivp(eom, tspan, y0, method=method, rtol=rtol, atol=atol, args=(params,))\n",
    "\n",
    "print('Solution found over {0} time steps'.format(len(sol.t)))"
   ]
  },
  {
   "cell_type": "code",
   "execution_count": null,
   "metadata": {},
   "outputs": [],
   "source": [
    "# Plot displacement of first mass over simulation time\n",
    "plt.figure('solution')\n",
    "plt.plot(sol.t, sol.y[0])\n",
    "plt.xlabel('Time (s)')\n",
    "plt.ylabel('Position of first mass')\n",
    "\n",
    "# Find and plot spring strain for all springs over time\n",
    "x_arr, p_arr = jnp.split(sol.y, 2, axis=0)\n",
    "dx_arr = jnp.diff(x_arr, axis=0)\n",
    "\n",
    "UNIT, TIME = jnp.meshgrid(jnp.arange(N-1),sol.t)\n",
    "plt.figure('colorplot')\n",
    "plt.pcolor(UNIT, TIME ,jnp.transpose(dx_arr),cmap=plt.cm.jet)\n",
    "plt.xlabel(\"Unit index\")\n",
    "plt.ylabel(\"Time (s)\")\n",
    "cbar = plt.colorbar()\n",
    "cbar.set_label('Strain')"
   ]
  },
  {
   "cell_type": "code",
   "execution_count": null,
   "metadata": {},
   "outputs": [],
   "source": [
    "# Quality check: find and plot total energy over simulation time\n",
    "H_total = vmap(H, in_axes=(1,1,None))(x_arr, p_arr, params)\n",
    "\n",
    "plt.figure('H_over_time')\n",
    "plt.plot(sol.t, H_total)\n",
    "plt.xlabel('Time (s)')\n",
    "plt.ylabel('Energy')\n",
    "plt.ylim(0, 1.1*max(H_total))\n",
    "\n",
    "print('Maximum energy difference    = {0:.4e}'.format( (max(H_total)-min(H_total)) ))\n",
    "print('Maximum energy error         = {0:.4e}'.format( (max(H_total)-min(H_total))/jnp.mean(H_total) ))"
   ]
  }
 ],
 "metadata": {
  "kernelspec": {
   "display_name": "scorenet",
   "language": "python",
   "name": "python3"
  },
  "language_info": {
   "codemirror_mode": {
    "name": "ipython",
    "version": 3
   },
   "file_extension": ".py",
   "mimetype": "text/x-python",
   "name": "python",
   "nbconvert_exporter": "python",
   "pygments_lexer": "ipython3",
   "version": "3.9.16"
  }
 },
 "nbformat": 4,
 "nbformat_minor": 2
}
